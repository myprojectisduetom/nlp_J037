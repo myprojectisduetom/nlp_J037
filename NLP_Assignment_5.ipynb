{
  "nbformat": 4,
  "nbformat_minor": 0,
  "metadata": {
    "colab": {
      "provenance": []
    },
    "kernelspec": {
      "name": "python3",
      "display_name": "Python 3"
    },
    "language_info": {
      "name": "python"
    }
  },
  "cells": [
    {
      "cell_type": "markdown",
      "source": [
        "Task 1"
      ],
      "metadata": {
        "id": "fqWnPNIR8EoC"
      }
    },
    {
      "cell_type": "code",
      "source": [
        "!pip install rapidfuzz"
      ],
      "metadata": {
        "colab": {
          "base_uri": "https://localhost:8080/"
        },
        "id": "8eqriGeu2sDY",
        "outputId": "9d5c79ba-356f-49c0-aee1-c49b4084aa93"
      },
      "execution_count": 1,
      "outputs": [
        {
          "output_type": "stream",
          "name": "stdout",
          "text": [
            "Collecting rapidfuzz\n",
            "  Downloading rapidfuzz-3.14.0-cp312-cp312-manylinux_2_27_x86_64.manylinux_2_28_x86_64.whl.metadata (12 kB)\n",
            "Downloading rapidfuzz-3.14.0-cp312-cp312-manylinux_2_27_x86_64.manylinux_2_28_x86_64.whl (3.3 MB)\n",
            "\u001b[2K   \u001b[90m━━━━━━━━━━━━━━━━━━━━━━━━━━━━━━━━━━━━━━━━\u001b[0m \u001b[32m3.3/3.3 MB\u001b[0m \u001b[31m27.0 MB/s\u001b[0m eta \u001b[36m0:00:00\u001b[0m\n",
            "\u001b[?25hInstalling collected packages: rapidfuzz\n",
            "Successfully installed rapidfuzz-3.14.0\n"
          ]
        }
      ]
    },
    {
      "cell_type": "code",
      "source": [
        "# -------------------------------\n",
        "# 📌 Block 1: Import libraries & load data\n",
        "# -------------------------------\n",
        "import pandas as pd\n",
        "from rapidfuzz import fuzz, process\n",
        "\n",
        "# Load the resolved queries\n",
        "resolved_df = pd.read_csv(\"resolved_queries (1).csv\")\n",
        "\n",
        "# Load the new queries\n",
        "new_df = pd.read_csv(\"new_queries (1).csv\")\n",
        "\n",
        "print(\"Resolved queries:\", resolved_df.shape)\n",
        "print(\"New queries:\", new_df.shape)\n",
        "print(resolved_df.head())\n",
        "print(new_df.head())"
      ],
      "metadata": {
        "colab": {
          "base_uri": "https://localhost:8080/"
        },
        "id": "2KgXTZV42Mo5",
        "outputId": "66add100-ba2c-459b-d166-e2a7bf9dea3f"
      },
      "execution_count": 5,
      "outputs": [
        {
          "output_type": "stream",
          "name": "stdout",
          "text": [
            "Resolved queries: (5, 2)\n",
            "New queries: (20, 2)\n",
            "   Query_ID                    Pre_Resolved_Query\n",
            "0         1     Unable to connect to the internet\n",
            "1         2        Payment failed during checkout\n",
            "2         3     App crashes when opening settings\n",
            "3         4   Forgot password and unable to reset\n",
            "4         5  Unable to upload files to the server\n",
            "                             Variation_Query  Matches_With_Query_ID\n",
            "0           Unabel to conect to the internet                      1\n",
            "1                  Can’t connect to internet                      1\n",
            "2                        Intenet not working                      1\n",
            "3               Payment failed while chekout                      2\n",
            "4  Payment did not go through during chckout                      2\n"
          ]
        }
      ]
    },
    {
      "cell_type": "code",
      "source": [
        "# -------------------------------\n",
        "# 📌 Block 2: Define fuzzy matching function\n",
        "# -------------------------------\n",
        "def fuzzy_match(query, choices, scorer=fuzz.token_sort_ratio, threshold=70):\n",
        "    \"\"\"\n",
        "    Match a query string against a list of choices using RapidFuzz.\n",
        "    Returns the best match and its score if above threshold, else None.\n",
        "    \"\"\"\n",
        "    match, score, idx = process.extractOne(query, choices, scorer=scorer)\n",
        "    if score >= threshold:\n",
        "        return match, score\n",
        "    return None, None\n"
      ],
      "metadata": {
        "id": "cqXMtqX02S_8"
      },
      "execution_count": 6,
      "outputs": []
    },
    {
      "cell_type": "code",
      "source": [
        "# -------------------------------\n",
        "# 📌 Block 3: Apply fuzzy matching to new queries\n",
        "# -------------------------------\n",
        "results = []\n",
        "\n",
        "# Choices come from the resolved queries column\n",
        "resolved_queries = resolved_df[\"Pre_Resolved_Query\"].tolist()\n",
        "\n",
        "for i, row in new_df.iterrows():\n",
        "    query = row[\"Variation_Query\"]  # <-- use Variation_Query instead of Query\n",
        "    match, score = fuzzy_match(query, resolved_queries, scorer=fuzz.token_sort_ratio, threshold=70)\n",
        "\n",
        "    if match:\n",
        "        matched_id = resolved_df.loc[resolved_df[\"Pre_Resolved_Query\"] == match, \"Query_ID\"].values[0]\n",
        "        results.append((query, match, matched_id, score))\n",
        "    else:\n",
        "        results.append((query, None, None, None))\n",
        "\n",
        "# Convert to DataFrame\n",
        "matches_df = pd.DataFrame(results, columns=[\"New_Query\", \"Matched_Query\", \"Matched_Query_ID\", \"Score\"])\n",
        "# Attach fuzzy predictions back to new_df\n",
        "new_df[\"Fuzzy_Pred\"] = matches_df[\"Matched_Query_ID\"].values\n",
        "new_df[\"Fuzzy_Score\"] = matches_df[\"Score\"].values\n",
        "\n",
        "print(matches_df.head(10))\n"
      ],
      "metadata": {
        "colab": {
          "base_uri": "https://localhost:8080/"
        },
        "id": "NCEXiSf92TvL",
        "outputId": "ff7378df-1831-4f75-f2a3-abc8dcac7a0f"
      },
      "execution_count": 10,
      "outputs": [
        {
          "output_type": "stream",
          "name": "stdout",
          "text": [
            "                                   New_Query  \\\n",
            "0           Unabel to conect to the internet   \n",
            "1                  Can’t connect to internet   \n",
            "2                        Intenet not working   \n",
            "3               Payment failed while chekout   \n",
            "4  Payment did not go through during chckout   \n",
            "5                 Payment issue at check out   \n",
            "6   Application crashes when opening setings   \n",
            "7           App crash when going to settings   \n",
            "8           Settings cause the app to chrash   \n",
            "9              Forgot passwrd and cant reset   \n",
            "\n",
            "                         Matched_Query  Matched_Query_ID      Score  \n",
            "0    Unable to connect to the internet               1.0  95.384615  \n",
            "1    Unable to connect to the internet               1.0  72.413793  \n",
            "2                                 None               NaN        NaN  \n",
            "3       Payment failed during checkout               2.0  75.862069  \n",
            "4                                 None               NaN        NaN  \n",
            "5                                 None               NaN        NaN  \n",
            "6    App crashes when opening settings               3.0  87.671233  \n",
            "7    App crashes when opening settings               3.0  86.153846  \n",
            "8                                 None               NaN        NaN  \n",
            "9  Forgot password and unable to reset               4.0  75.000000  \n"
          ]
        }
      ]
    },
    {
      "cell_type": "code",
      "source": [
        "# ====================================================\n",
        "# Block 4: Evaluate Fuzzy Matching\n",
        "# ====================================================\n",
        "from sklearn.metrics import accuracy_score, f1_score\n",
        "\n",
        "# Replace NaN with -1 for unmatched queries\n",
        "new_df[\"Fuzzy_Pred\"] = new_df[\"Fuzzy_Pred\"].fillna(-1)\n",
        "\n",
        "true_ids = new_df[\"Matches_With_Query_ID\"]\n",
        "fuzzy_preds = new_df[\"Fuzzy_Pred\"]\n",
        "\n",
        "acc = accuracy_score(true_ids, fuzzy_preds)\n",
        "f1 = f1_score(true_ids, fuzzy_preds, average=\"macro\")\n",
        "\n",
        "print(f\"Fuzzy Matching (token_sort_ratio) -> Accuracy: {acc:.3f}, F1: {f1:.3f}\")\n"
      ],
      "metadata": {
        "colab": {
          "base_uri": "https://localhost:8080/"
        },
        "id": "3QlBgNR_2Z4S",
        "outputId": "bc64f52d-3cc6-4a42-edf6-44df6f2f47fc"
      },
      "execution_count": 12,
      "outputs": [
        {
          "output_type": "stream",
          "name": "stdout",
          "text": [
            "Fuzzy Matching (token_sort_ratio) -> Accuracy: 0.450, F1: 0.511\n"
          ]
        }
      ]
    },
    {
      "cell_type": "code",
      "source": [
        "from sklearn.feature_extraction.text import TfidfVectorizer\n",
        "from sklearn.metrics.pairwise import cosine_similarity\n",
        "import numpy as np\n",
        "\n",
        "# Optional: simple preprocessing\n",
        "def preprocess(text):\n",
        "    return text.lower().strip()\n",
        "\n",
        "resolved_df[\"processed_query\"] = resolved_df[\"Pre_Resolved_Query\"].apply(preprocess)\n",
        "new_df[\"processed_query\"] = new_df[\"Variation_Query\"].apply(preprocess)\n",
        "\n",
        "# Vectorize queries\n",
        "vectorizer = TfidfVectorizer()\n",
        "tfidf_matrix_resolved = vectorizer.fit_transform(resolved_df[\"processed_query\"])\n",
        "tfidf_matrix_new = vectorizer.transform(new_df[\"processed_query\"])\n",
        "\n",
        "# Compute cosine similarity\n",
        "cosine_sim = cosine_similarity(tfidf_matrix_new, tfidf_matrix_resolved)\n",
        "\n",
        "# Pick best match for each new query\n",
        "pred_ids_tfidf = []\n",
        "for i in range(len(new_df)):\n",
        "    best_idx = np.argmax(cosine_sim[i])\n",
        "    pred_ids_tfidf.append(resolved_df.iloc[best_idx][\"Query_ID\"])\n",
        "\n",
        "new_df[\"TFIDF_Pred\"] = pred_ids_tfidf\n",
        "\n",
        "print(new_df[[\"Variation_Query\", \"Matches_With_Query_ID\", \"TFIDF_Pred\"]].head(10))\n"
      ],
      "metadata": {
        "colab": {
          "base_uri": "https://localhost:8080/"
        },
        "id": "A7bAiPfp2b_c",
        "outputId": "ebb83dcb-6492-4746-b4bf-52e8f9299746"
      },
      "execution_count": 14,
      "outputs": [
        {
          "output_type": "stream",
          "name": "stdout",
          "text": [
            "                             Variation_Query  Matches_With_Query_ID  \\\n",
            "0           Unabel to conect to the internet                      1   \n",
            "1                  Can’t connect to internet                      1   \n",
            "2                        Intenet not working                      1   \n",
            "3               Payment failed while chekout                      2   \n",
            "4  Payment did not go through during chckout                      2   \n",
            "5                 Payment issue at check out                      2   \n",
            "6   Application crashes when opening setings                      3   \n",
            "7           App crash when going to settings                      3   \n",
            "8           Settings cause the app to chrash                      3   \n",
            "9              Forgot passwrd and cant reset                      4   \n",
            "\n",
            "   TFIDF_Pred  \n",
            "0           1  \n",
            "1           1  \n",
            "2           1  \n",
            "3           2  \n",
            "4           2  \n",
            "5           2  \n",
            "6           3  \n",
            "7           3  \n",
            "8           3  \n",
            "9           4  \n"
          ]
        }
      ]
    },
    {
      "cell_type": "code",
      "source": [
        "# ====================================================\n",
        "# Block 6: Evaluate TF-IDF Matching\n",
        "# ====================================================\n",
        "tfidf_preds = new_df[\"TFIDF_Pred\"]\n",
        "\n",
        "acc_tfidf = accuracy_score(true_ids, tfidf_preds)\n",
        "f1_tfidf = f1_score(true_ids, tfidf_preds, average=\"macro\")\n",
        "\n",
        "print(f\"TF-IDF Cosine -> Accuracy: {acc_tfidf:.3f}, F1: {f1_tfidf:.3f}\")\n"
      ],
      "metadata": {
        "colab": {
          "base_uri": "https://localhost:8080/"
        },
        "id": "1DcTIoVq2d6E",
        "outputId": "7a17ce75-d613-4427-96ea-d220e9587d06"
      },
      "execution_count": 15,
      "outputs": [
        {
          "output_type": "stream",
          "name": "stdout",
          "text": [
            "TF-IDF Cosine -> Accuracy: 1.000, F1: 1.000\n"
          ]
        }
      ]
    },
    {
      "cell_type": "code",
      "source": [
        "# ====================================================\n",
        "# Block 7: Save Results\n",
        "# ====================================================\n",
        "output_path = Path(\"task1_results.csv\")\n",
        "new_df.to_csv(output_path, index=False)\n",
        "print(f\"Results saved to {output_path.absolute()}\")\n"
      ],
      "metadata": {
        "colab": {
          "base_uri": "https://localhost:8080/"
        },
        "id": "YzdgxFEq2f2R",
        "outputId": "25e47b6a-25db-4a5f-ebb5-d7c6c833cad0"
      },
      "execution_count": 16,
      "outputs": [
        {
          "output_type": "stream",
          "name": "stdout",
          "text": [
            "Results saved to /content/task1_results.csv\n"
          ]
        }
      ]
    },
    {
      "cell_type": "markdown",
      "source": [
        "Task 2"
      ],
      "metadata": {
        "id": "D-qKSqZ78UbD"
      }
    },
    {
      "cell_type": "code",
      "source": [
        "!pip install rapidfuzz"
      ],
      "metadata": {
        "colab": {
          "base_uri": "https://localhost:8080/"
        },
        "id": "G00HYSOW8A_k",
        "outputId": "634e9d10-addb-458d-a760-b0f5fdb7d3e2"
      },
      "execution_count": 4,
      "outputs": [
        {
          "output_type": "stream",
          "name": "stdout",
          "text": [
            "Collecting rapidfuzz\n",
            "  Downloading rapidfuzz-3.14.0-cp312-cp312-manylinux_2_27_x86_64.manylinux_2_28_x86_64.whl.metadata (12 kB)\n",
            "Downloading rapidfuzz-3.14.0-cp312-cp312-manylinux_2_27_x86_64.manylinux_2_28_x86_64.whl (3.3 MB)\n",
            "\u001b[2K   \u001b[90m━━━━━━━━━━━━━━━━━━━━━━━━━━━━━━━━━━━━━━━━\u001b[0m \u001b[32m3.3/3.3 MB\u001b[0m \u001b[31m29.7 MB/s\u001b[0m eta \u001b[36m0:00:00\u001b[0m\n",
            "\u001b[?25hInstalling collected packages: rapidfuzz\n",
            "Successfully installed rapidfuzz-3.14.0\n"
          ]
        }
      ]
    },
    {
      "cell_type": "code",
      "source": [
        "!pip install rapidfuzz pandas jellyfish"
      ],
      "metadata": {
        "colab": {
          "base_uri": "https://localhost:8080/"
        },
        "id": "De9ksslt_ZgJ",
        "outputId": "1d237288-aa28-4495-9945-724f225e9ffc"
      },
      "execution_count": 22,
      "outputs": [
        {
          "output_type": "stream",
          "name": "stdout",
          "text": [
            "Requirement already satisfied: rapidfuzz in /usr/local/lib/python3.12/dist-packages (3.14.0)\n",
            "Requirement already satisfied: pandas in /usr/local/lib/python3.12/dist-packages (2.2.2)\n",
            "Collecting jellyfish\n",
            "  Downloading jellyfish-1.2.0-cp312-cp312-manylinux_2_17_x86_64.manylinux2014_x86_64.whl.metadata (2.6 kB)\n",
            "Requirement already satisfied: numpy>=1.26.0 in /usr/local/lib/python3.12/dist-packages (from pandas) (2.0.2)\n",
            "Requirement already satisfied: python-dateutil>=2.8.2 in /usr/local/lib/python3.12/dist-packages (from pandas) (2.9.0.post0)\n",
            "Requirement already satisfied: pytz>=2020.1 in /usr/local/lib/python3.12/dist-packages (from pandas) (2025.2)\n",
            "Requirement already satisfied: tzdata>=2022.7 in /usr/local/lib/python3.12/dist-packages (from pandas) (2025.2)\n",
            "Requirement already satisfied: six>=1.5 in /usr/local/lib/python3.12/dist-packages (from python-dateutil>=2.8.2->pandas) (1.17.0)\n",
            "Downloading jellyfish-1.2.0-cp312-cp312-manylinux_2_17_x86_64.manylinux2014_x86_64.whl (355 kB)\n",
            "\u001b[2K   \u001b[90m━━━━━━━━━━━━━━━━━━━━━━━━━━━━━━━━━━━━━━━━\u001b[0m \u001b[32m355.9/355.9 kB\u001b[0m \u001b[31m6.9 MB/s\u001b[0m eta \u001b[36m0:00:00\u001b[0m\n",
            "\u001b[?25hInstalling collected packages: jellyfish\n",
            "Successfully installed jellyfish-1.2.0\n"
          ]
        }
      ]
    },
    {
      "cell_type": "code",
      "source": [
        "import pandas as pd\n",
        "from rapidfuzz import fuzz, process\n",
        "import jellyfish\n",
        "\n",
        "# --- Load CSVs ---\n",
        "base = pd.read_csv(\"base_names.csv\")\n",
        "variations = pd.read_csv(\"name_variations.csv\")\n",
        "\n",
        "print(\"Base names columns:\", base.columns.tolist())\n",
        "print(\"Name variations columns:\", variations.columns.tolist())\n",
        "\n",
        "# --- Rename columns for consistency ---\n",
        "# Assuming first col is ID and second is name\n",
        "base = base.rename(columns={base.columns[0]: \"id\", base.columns[1]: \"name\"})\n",
        "variations = variations.rename(columns={variations.columns[0]: \"id\", variations.columns[1]: \"name\"})\n",
        "\n",
        "print(\"Base names shape:\", base.shape)\n",
        "print(\"Variations shape:\", variations.shape)"
      ],
      "metadata": {
        "colab": {
          "base_uri": "https://localhost:8080/"
        },
        "id": "WYVLI2j-8VY7",
        "outputId": "68cc1468-6d28-442f-d386-40f92992fabd"
      },
      "execution_count": 23,
      "outputs": [
        {
          "output_type": "stream",
          "name": "stdout",
          "text": [
            "Base names columns: ['Base_Name_ID', 'Base_Name']\n",
            "Name variations columns: ['Variation', 'Matches_With_Base_Name']\n",
            "Base names shape: (20, 2)\n",
            "Variations shape: (100, 2)\n"
          ]
        }
      ]
    },
    {
      "cell_type": "code",
      "source": [
        "# --- Preprocess names ---\n",
        "def clean_name(name):\n",
        "    if pd.isna(name):\n",
        "        return \"\"\n",
        "    name = str(name).lower().strip()\n",
        "    name = name.replace(\",\", \" \")        # handle \"Smith, John\"\n",
        "    name = \" \".join(name.split())        # remove extra spaces\n",
        "    return name\n",
        "\n",
        "base[\"name_clean\"] = base[\"name\"].apply(clean_name)\n",
        "variations[\"name_clean\"] = variations[\"name\"].apply(clean_name)\n",
        "\n",
        "# --- Fuzzy match names ---\n",
        "def match_name(name, choices, threshold=90):\n",
        "    match = process.extractOne(name, choices, scorer=fuzz.token_set_ratio, score_cutoff=threshold)\n",
        "    return match\n",
        "\n",
        "name_matches = []\n",
        "for n in variations[\"name_clean\"]:\n",
        "    match = match_name(n, base[\"name_clean\"].tolist())\n",
        "    name_matches.append(match)\n",
        "\n",
        "variations[\"best_match\"] = [m[0] if m else None for m in name_matches]\n",
        "variations[\"match_score\"] = [m[1] if m else None for m in name_matches]\n",
        "\n",
        "print(\"\\n=== Fuzzy Name Matching Results (Top 5) ===\")\n",
        "print(variations[[\"name\", \"best_match\", \"match_score\"]].head())\n"
      ],
      "metadata": {
        "colab": {
          "base_uri": "https://localhost:8080/"
        },
        "id": "fkYEAsQA_dB6",
        "outputId": "6a392dcc-23c4-4628-f6ba-b15c1ae58023"
      },
      "execution_count": 24,
      "outputs": [
        {
          "output_type": "stream",
          "name": "stdout",
          "text": [
            "\n",
            "=== Fuzzy Name Matching Results (Top 5) ===\n",
            "           name    best_match  match_score\n",
            "0   Thomas King   thomas king        100.0\n",
            "1   Thomas King   thomas king        100.0\n",
            "2  Maria Garcia  maria garcia        100.0\n",
            "3    Mary Lewis    mary lewis        100.0\n",
            "4  Nancy Wright  nancy wright        100.0\n"
          ]
        }
      ]
    },
    {
      "cell_type": "code",
      "source": [
        "jw_scores = []\n",
        "for i, row in variations.iterrows():\n",
        "    if row[\"best_match\"]:\n",
        "        jw = jellyfish.jaro_winkler_similarity(row[\"name_clean\"], row[\"best_match\"])\n",
        "        jw_scores.append(jw)\n",
        "    else:\n",
        "        jw_scores.append(None)\n",
        "\n",
        "variations[\"jaro_winkler_score\"] = jw_scores\n",
        "\n",
        "# --- Save results ---\n",
        "variations.to_csv(\"task2_name_matches.csv\", index=False)\n",
        "print(\"\\n✅ Task 2 results saved as task2_name_matches.csv\")"
      ],
      "metadata": {
        "colab": {
          "base_uri": "https://localhost:8080/"
        },
        "id": "xStdWNlT_iRA",
        "outputId": "641ca348-1f70-496c-cd9b-6ee644514bb7"
      },
      "execution_count": 25,
      "outputs": [
        {
          "output_type": "stream",
          "name": "stdout",
          "text": [
            "\n",
            "✅ Task 2 results saved as task2_name_matches.csv\n"
          ]
        }
      ]
    },
    {
      "cell_type": "code",
      "source": [],
      "metadata": {
        "id": "MXyX4m9w_l5f"
      },
      "execution_count": null,
      "outputs": []
    }
  ]
}